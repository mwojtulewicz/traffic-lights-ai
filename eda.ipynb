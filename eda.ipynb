{
 "cells": [
  {
   "cell_type": "code",
   "execution_count": 1,
   "metadata": {},
   "outputs": [],
   "source": [
    "import traci\n",
    "import numpy as np\n",
    "import matplotlib.pyplot as plt\n",
    "import os, sys\n",
    "from sumolib import checkBinary\n",
    "import time"
   ]
  },
  {
   "cell_type": "code",
   "execution_count": 2,
   "metadata": {},
   "outputs": [
    {
     "data": {
      "text/plain": [
       "'C:\\\\Program Files (x86)\\\\Eclipse\\\\Sumo\\\\'"
      ]
     },
     "execution_count": 2,
     "metadata": {},
     "output_type": "execute_result"
    }
   ],
   "source": [
    "os.environ.get('SUMO_HOME')"
   ]
  },
  {
   "cell_type": "code",
   "execution_count": 3,
   "metadata": {},
   "outputs": [
    {
     "data": {
      "text/plain": [
       "['C:\\\\Program Files (x86)\\\\Eclipse\\\\Sumo\\\\tools\\\\traci']"
      ]
     },
     "execution_count": 3,
     "metadata": {},
     "output_type": "execute_result"
    }
   ],
   "source": [
    "traci.__path__"
   ]
  },
  {
   "cell_type": "code",
   "execution_count": 4,
   "metadata": {},
   "outputs": [],
   "source": [
    "# Sumo demo\n",
    "# !cd sumo_demo & python runner.py"
   ]
  },
  {
   "cell_type": "code",
   "execution_count": 5,
   "metadata": {},
   "outputs": [],
   "source": [
    "def sumo_init(sumo_cfg_file:str, gui:bool):\n",
    "    if 'SUMO_HOME' in os.environ:\n",
    "        tools = os.path.join(os.environ['SUMO_HOME'], 'tools')\n",
    "        sys.path.append(tools)\n",
    "    else:\n",
    "        sys.exit('Environment variable SUMO_HOME not declared.')\n",
    "    sumo_binary = checkBinary('sumo-gui') if gui else checkBinary('sumo')\n",
    "    traci.start([sumo_binary, \"-c\", sumo_cfg_file,'--start'])"
   ]
  },
  {
   "cell_type": "code",
   "execution_count": 6,
   "metadata": {},
   "outputs": [],
   "source": [
    "sumo_cfg_file = 'training/intersection/my_net.sumocfg'\n",
    "gui = True"
   ]
  },
  {
   "cell_type": "code",
   "execution_count": 12,
   "metadata": {},
   "outputs": [
    {
     "name": "stdout",
     "output_type": "stream",
     "text": [
      "simulating\n",
      "simulating\n"
     ]
    }
   ],
   "source": [
    "sumo_init(sumo_cfg_file, gui)\n",
    "# traci.simulationStep()\n",
    "print('simulating')\n",
    "# while traci.simulation.getMinExpectedNumber() > 0:\n",
    "#     time.sleep(0.02)\n",
    "#     traci.simulationStep()\n",
    "for i in range(1000):\n",
    "    traci.simulationStep()\n",
    "traci.close()\n",
    "\n",
    "sumo_init(sumo_cfg_file, gui)\n",
    "# traci.simulationStep()\n",
    "print('simulating')\n",
    "# while traci.simulation.getMinExpectedNumber() > 0:\n",
    "#     time.sleep(0.02)\n",
    "#     traci.simulationStep()\n",
    "for i in range(1000):\n",
    "    traci.simulationStep()\n",
    "traci.close()"
   ]
  },
  {
   "cell_type": "code",
   "execution_count": 6,
   "metadata": {},
   "outputs": [
    {
     "name": "stdout",
     "output_type": "stream",
     "text": [
      "simulating\n"
     ]
    }
   ],
   "source": [
    "sumo_init(sumo_cfg_file, gui)\n",
    "# traci.simulationStep()\n",
    "print('simulating')\n",
    "# while traci.simulation.getMinExpectedNumber() > 0:\n",
    "#     time.sleep(0.02)\n",
    "#     traci.simulationStep()\n",
    "for i in range(1000):\n",
    "    traci.simulationStep()\n",
    "# traci.close()\n",
    "traci.load(['-c', sumo_cfg_file, '--start'])\n",
    "for i in range(1000):\n",
    "    traci.simulationStep()\n",
    "traci.close()"
   ]
  },
  {
   "cell_type": "code",
   "execution_count": 13,
   "metadata": {},
   "outputs": [
    {
     "name": "stdout",
     "output_type": "stream",
     "text": [
      "started\n",
      "loaded\n",
      "loaded\n",
      "loaded\n"
     ]
    }
   ],
   "source": [
    "traci.start(['sumo-gui', '-c', sumo_cfg_file, '--start'])\n",
    "print('started')\n",
    "for i in range(3):\n",
    "    time.sleep(0.5)\n",
    "    traci.load(['-c', sumo_cfg_file, '--start'])\n",
    "    print('loaded')\n",
    "    time.sleep(2)\n",
    "    for i in range(1000):\n",
    "        traci.simulationStep()\n",
    "traci.close()"
   ]
  },
  {
   "cell_type": "code",
   "execution_count": null,
   "metadata": {},
   "outputs": [],
   "source": []
  }
 ],
 "metadata": {
  "interpreter": {
   "hash": "4a164a018fc136c3d2d029afb355fec41d76b984f2d1aac3c4a34f0b10311231"
  },
  "kernelspec": {
   "display_name": "Python 3.8.5 64-bit ('base': conda)",
   "language": "python",
   "name": "python3"
  },
  "language_info": {
   "codemirror_mode": {
    "name": "ipython",
    "version": 3
   },
   "file_extension": ".py",
   "mimetype": "text/x-python",
   "name": "python",
   "nbconvert_exporter": "python",
   "pygments_lexer": "ipython3",
   "version": "3.8.10"
  },
  "orig_nbformat": 4
 },
 "nbformat": 4,
 "nbformat_minor": 2
}
